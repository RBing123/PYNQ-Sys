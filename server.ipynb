{
 "cells": [
  {
   "cell_type": "code",
   "execution_count": null,
   "metadata": {},
   "outputs": [
    {
     "name": "stdout",
     "output_type": "stream",
     "text": [
      "服務器正在監聽 0.0.0.0:8001\n",
      "客戶端連接: ('192.168.2.1', 52978)\n",
      "收到來自 ('192.168.2.1', 52978) 的圖像，大小: (2888, 3713)\n",
      "客戶端連接: ('192.168.2.1', 52987)\n",
      "收到來自 ('192.168.2.1', 52987) 的圖像，大小: (480, 360)\n"
     ]
    }
   ],
   "source": [
    "import socket\n",
    "import threading\n",
    "from PIL import Image as PIL_Image # 導入 PIL.Image\n",
    "import io # 導入 io 模組來處理字節流\n",
    "\n",
    "# 新增一個全局變量來存儲接收到的圖像\n",
    "received_image = None\n",
    "image_lock = threading.Lock() # 用於同步對 received_image 的訪問\n",
    "\n",
    "class Carame_Accept_Object:\n",
    "    def __init__(self):\n",
    "        self.host = '0.0.0.0'  # 監聽所有可用的接口\n",
    "        self.port = 8001       # 端口號\n",
    "        self.server = socket.socket(socket.AF_INET, socket.SOCK_STREAM)\n",
    "        self.server.bind((self.host, self.port))\n",
    "        self.server.listen(5)\n",
    "        print(f\"服務器正在監聽 {self.host}:{self.port}\")\n",
    "\n",
    "def RT_Image(camera, client, D_addr):\n",
    "    global received_image\n",
    "    print(f\"客戶端連接: {D_addr}\")\n",
    "    try:\n",
    "        while True:\n",
    "            # 接收圖像大小 (假設為4字節)\n",
    "            data_len_bytes = client.recv(4)\n",
    "            if not data_len_bytes:\n",
    "                break\n",
    "            data_len = int.from_bytes(data_len_bytes, 'big')\n",
    "\n",
    "            # 接收圖像數據\n",
    "            img_data = b''\n",
    "            while len(img_data) < data_len:\n",
    "                packet = client.recv(data_len - len(img_data))\n",
    "                if not packet:\n",
    "                    break\n",
    "                img_data += packet\n",
    "            \n",
    "            if len(img_data) == data_len:\n",
    "                try:\n",
    "                    # 將字節數據轉換為 PIL 圖像\n",
    "                    # 假設客戶端發送的是 JPEG 或 PNG 格式的圖像字節流\n",
    "                    img_pil = PIL_Image.open(io.BytesIO(img_data))\n",
    "                    \n",
    "                    with image_lock:\n",
    "                        received_image = img_pil\n",
    "                    print(f\"收到來自 {D_addr} 的圖像，大小: {img_pil.size}\")\n",
    "                except Exception as img_e:\n",
    "                    print(f\"無法解碼來自 {D_addr} 的圖像數據或格式錯誤: {img_e}\")\n",
    "            else:\n",
    "                print(f\"接收到的數據長度不匹配，預期: {data_len}, 實際: {len(img_data)}\")\n",
    "                break\n",
    "\n",
    "    except Exception as e:\n",
    "        print(f\"處理客戶端 {D_addr} 時發生錯誤: {e}\")\n",
    "    finally:\n",
    "        client.close()\n",
    "        print(f\"客戶端 {D_addr} 斷開連接\")\n",
    "\n",
    "if __name__ == '__main__':\n",
    "    camera = Carame_Accept_Object()\n",
    "    while (1):\n",
    "        client, D_addr = camera.server.accept()\n",
    "        clientThread = threading.Thread(None, target=RT_Image, args=(camera, client, D_addr,))\n",
    "        clientThread.start()"
   ]
  },
  {
   "cell_type": "code",
   "execution_count": null,
   "metadata": {},
   "outputs": [],
   "source": [
    "img_pil"
   ]
  },
  {
   "cell_type": "code",
   "execution_count": null,
   "metadata": {},
   "outputs": [],
   "source": []
  }
 ],
 "metadata": {
  "kernelspec": {
   "display_name": "Python 3",
   "language": "python",
   "name": "python3"
  },
  "language_info": {
   "codemirror_mode": {
    "name": "ipython",
    "version": 3
   },
   "file_extension": ".py",
   "mimetype": "text/x-python",
   "name": "python",
   "nbconvert_exporter": "python",
   "pygments_lexer": "ipython3",
   "version": "3.6.5"
  }
 },
 "nbformat": 4,
 "nbformat_minor": 2
}
